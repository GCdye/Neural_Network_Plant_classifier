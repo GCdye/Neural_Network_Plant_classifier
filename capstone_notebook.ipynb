{
 "cells": [
  {
   "cell_type": "code",
   "execution_count": 15,
   "metadata": {},
   "outputs": [],
   "source": [
    "import pandas as pd\n",
    "import numpy as np\n",
    "\n",
    "from keras.models import Sequential\n",
    "from keras.layers import Dense, Dropout, Activation, Flatten, Conv2D\n",
    "from keras.layers import Convolution2D, MaxPooling2D\n",
    "from keras.optimizers import SGD, Adam\n"
   ]
  },
  {
   "cell_type": "code",
   "execution_count": 45,
   "metadata": {},
   "outputs": [],
   "source": [
    "from keras.preprocessing.image import ImageDataGenerator, load_img, img_to_array\n",
    "\n",
    "datagen = ImageDataGenerator(\n",
    "        rotation_range=40,\n",
    "        width_shift_range=0.2,\n",
    "        height_shift_range=0.2,\n",
    "        rescale=1./255,\n",
    "        shear_range=0.2,\n",
    "        zoom_range=0.2,\n",
    "        horizontal_flip=True,\n",
    "        fill_mode='nearest')"
   ]
  },
  {
   "cell_type": "code",
   "execution_count": 17,
   "metadata": {},
   "outputs": [],
   "source": [
    "directory = 'seedlings'"
   ]
  },
  {
   "cell_type": "code",
   "execution_count": 18,
   "metadata": {},
   "outputs": [
    {
     "name": "stdout",
     "output_type": "stream",
     "text": [
      "Found 5539 images belonging to 12 classes.\n"
     ]
    }
   ],
   "source": [
    "X = datagen.flow_from_directory(directory, target_size=(256, 256), color_mode='rgb', classes=None, \n",
    "                    class_mode='categorical',\n",
    "                    batch_size=32, shuffle=True, seed=None, \n",
    "                    save_to_dir=None, save_prefix='', save_format='png',\n",
    "                    follow_links=False, subset=None, interpolation='nearest')"
   ]
  },
  {
   "cell_type": "code",
   "execution_count": 20,
   "metadata": {},
   "outputs": [],
   "source": [
    "# model.fit(\n",
    "#     train_generator,\n",
    "#     steps_per_epoch = train_generator.samples // batch_size,\n",
    "#     validation_data = validation_generator, \n",
    "#     validation_steps = validation_generator.samples // batch_size,\n",
    "#     epochs = nb_epochs)"
   ]
  },
  {
   "cell_type": "code",
   "execution_count": 27,
   "metadata": {},
   "outputs": [],
   "source": [
    "model = Sequential()\n",
    "\n",
    "model.add(Conv2D(32, kernel_size=(5, 5), strides=(1, 1),\n",
    "                 activation='relu',\n",
    "                 input_shape=(256, 256, 3)))\n",
    "model.add(MaxPooling2D(pool_size=(2, 2), strides=(2, 2)))\n",
    "model.add(Conv2D(64, (5, 5), activation='relu'))\n",
    "model.add(MaxPooling2D(pool_size=(2, 2)))\n",
    "model.add(Flatten())\n",
    "model.add(Dense(32, activation='relu'))\n",
    "model.add(Dense(12, activation='softmax'))"
   ]
  },
  {
   "cell_type": "code",
   "execution_count": 28,
   "metadata": {},
   "outputs": [],
   "source": [
    "# model = Sequential()\n",
    "\n",
    "# model.add(Flatten())\n",
    "# model.add(Dense(128, input_shape=(28, 28), activation='relu'))\n",
    "# model.add(Dense(32, activation='relu'))\n",
    "# model.add(Dense(12, activation='softmax'))\n",
    "# model.compile(loss='categorical_crossentropy',\n",
    "#               optimizer='adam',\n",
    "#               metrics=['accuracy'])\n"
   ]
  },
  {
   "cell_type": "code",
   "execution_count": 40,
   "metadata": {},
   "outputs": [],
   "source": [
    "new_adam = Adam(lr=.001)\n",
    "\n",
    "model.compile(loss='categorical_crossentropy',\n",
    "              optimizer=new_adam,\n",
    "              metrics=['accuracy'])"
   ]
  },
  {
   "cell_type": "code",
   "execution_count": null,
   "metadata": {},
   "outputs": [],
   "source": []
  },
  {
   "cell_type": "code",
   "execution_count": 31,
   "metadata": {},
   "outputs": [],
   "source": [
    "train_data_dir = './seedlings'\n",
    "img_height = 256\n",
    "img_width = 256\n",
    "batch_size = 32\n",
    "nb_epochs = 20"
   ]
  },
  {
   "cell_type": "code",
   "execution_count": 41,
   "metadata": {},
   "outputs": [
    {
     "name": "stdout",
     "output_type": "stream",
     "text": [
      "Found 4437 images belonging to 12 classes.\n",
      "Found 1102 images belonging to 12 classes.\n",
      "Epoch 1/20\n",
      "138/138 [==============================] - 526s 4s/step - loss: 0.7583 - acc: 0.7448 - val_loss: 0.9743 - val_acc: 0.7050\n",
      "Epoch 2/20\n",
      "138/138 [==============================] - 526s 4s/step - loss: 0.6961 - acc: 0.7636 - val_loss: 0.9595 - val_acc: 0.7131\n",
      "Epoch 3/20\n",
      "138/138 [==============================] - 527s 4s/step - loss: 0.7179 - acc: 0.7570 - val_loss: 1.0089 - val_acc: 0.7000\n",
      "Epoch 4/20\n",
      "138/138 [==============================] - 533s 4s/step - loss: 0.7048 - acc: 0.7645 - val_loss: 0.9088 - val_acc: 0.7178\n",
      "Epoch 5/20\n",
      "138/138 [==============================] - 532s 4s/step - loss: 0.6533 - acc: 0.7787 - val_loss: 1.0226 - val_acc: 0.6822\n",
      "Epoch 6/20\n",
      "138/138 [==============================] - 535s 4s/step - loss: 0.6421 - acc: 0.7852 - val_loss: 0.9261 - val_acc: 0.7224\n",
      "Epoch 7/20\n",
      "138/138 [==============================] - 533s 4s/step - loss: 0.6336 - acc: 0.7879 - val_loss: 0.8981 - val_acc: 0.7178\n",
      "Epoch 8/20\n",
      "138/138 [==============================] - 533s 4s/step - loss: 0.5985 - acc: 0.8050 - val_loss: 0.9071 - val_acc: 0.7290\n",
      "Epoch 9/20\n",
      "138/138 [==============================] - 534s 4s/step - loss: 0.5836 - acc: 0.8059 - val_loss: 0.9079 - val_acc: 0.7290\n",
      "Epoch 10/20\n",
      "138/138 [==============================] - 527s 4s/step - loss: 0.5421 - acc: 0.8260 - val_loss: 0.8031 - val_acc: 0.7411\n",
      "Epoch 11/20\n",
      "138/138 [==============================] - 517s 4s/step - loss: 0.5515 - acc: 0.8113 - val_loss: 0.9703 - val_acc: 0.7280\n",
      "Epoch 12/20\n",
      "138/138 [==============================] - 524s 4s/step - loss: 0.5417 - acc: 0.8152 - val_loss: 0.9191 - val_acc: 0.7206\n",
      "Epoch 13/20\n",
      "138/138 [==============================] - 530s 4s/step - loss: 0.5291 - acc: 0.8231 - val_loss: 0.8777 - val_acc: 0.7477\n",
      "Epoch 14/20\n",
      "138/138 [==============================] - 525s 4s/step - loss: 0.5274 - acc: 0.8253 - val_loss: 0.8852 - val_acc: 0.7430\n",
      "Epoch 15/20\n",
      "138/138 [==============================] - 525s 4s/step - loss: 0.4819 - acc: 0.8407 - val_loss: 0.9126 - val_acc: 0.7430\n",
      "Epoch 16/20\n",
      "138/138 [==============================] - 523s 4s/step - loss: 0.4890 - acc: 0.8416 - val_loss: 0.8310 - val_acc: 0.7486\n",
      "Epoch 17/20\n",
      "138/138 [==============================] - 517s 4s/step - loss: 0.4604 - acc: 0.8441 - val_loss: 0.9343 - val_acc: 0.7533\n",
      "Epoch 18/20\n",
      "138/138 [==============================] - 510s 4s/step - loss: 0.4874 - acc: 0.8367 - val_loss: 0.9573 - val_acc: 0.7234\n",
      "Epoch 19/20\n",
      "138/138 [==============================] - 513s 4s/step - loss: 0.4680 - acc: 0.8411 - val_loss: 0.9376 - val_acc: 0.7262\n",
      "Epoch 20/20\n",
      "138/138 [==============================] - 528s 4s/step - loss: 0.4506 - acc: 0.8477 - val_loss: 0.8984 - val_acc: 0.7421\n"
     ]
    },
    {
     "data": {
      "text/plain": [
       "<keras.callbacks.History at 0xb34f9d358>"
      ]
     },
     "execution_count": 41,
     "metadata": {},
     "output_type": "execute_result"
    }
   ],
   "source": [
    "train_datagen = ImageDataGenerator(rescale=1./255,\n",
    "    shear_range=0.2,\n",
    "    zoom_range=0.2,\n",
    "    horizontal_flip=True,\n",
    "    validation_split=0.2) # set validation split\n",
    "\n",
    "train_generator = train_datagen.flow_from_directory(\n",
    "    train_data_dir,\n",
    "    target_size=(img_height, img_width),\n",
    "    batch_size=batch_size,\n",
    "    class_mode='categorical',\n",
    "    subset='training') # set as training data\n",
    "\n",
    "validation_generator = train_datagen.flow_from_directory(\n",
    "    train_data_dir, \n",
    "    target_size=(img_height, img_width),\n",
    "    batch_size=batch_size,\n",
    "    class_mode='categorical',\n",
    "    subset='validation') \n",
    "\n",
    "model.fit_generator(\n",
    "    train_generator,\n",
    "    steps_per_epoch = train_generator.samples // batch_size,\n",
    "    validation_data = validation_generator, \n",
    "    validation_steps = validation_generator.samples // batch_size,\n",
    "    epochs = nb_epochs)"
   ]
  },
  {
   "cell_type": "code",
   "execution_count": 42,
   "metadata": {},
   "outputs": [],
   "source": [
    "model.save('./final_model')"
   ]
  },
  {
   "cell_type": "code",
   "execution_count": 65,
   "metadata": {},
   "outputs": [],
   "source": [
    "x= load_img('./seedlings/maize/15.png', target_size=(256,256))\n",
    "\n",
    "x = img_to_array(x, data_format='channels_last')\n",
    "\n",
    "x = np.reshape(x, (1, 256,256, 3 ))"
   ]
  },
  {
   "cell_type": "code",
   "execution_count": 68,
   "metadata": {},
   "outputs": [
    {
     "data": {
      "text/plain": [
       "7"
      ]
     },
     "execution_count": 68,
     "metadata": {},
     "output_type": "execute_result"
    }
   ],
   "source": [
    " int(model.predict_classes(x))"
   ]
  },
  {
   "cell_type": "code",
   "execution_count": null,
   "metadata": {},
   "outputs": [],
   "source": []
  }
 ],
 "metadata": {
  "kernelspec": {
   "display_name": "Python 3",
   "language": "python",
   "name": "python3"
  },
  "language_info": {
   "codemirror_mode": {
    "name": "ipython",
    "version": 3
   },
   "file_extension": ".py",
   "mimetype": "text/x-python",
   "name": "python",
   "nbconvert_exporter": "python",
   "pygments_lexer": "ipython3",
   "version": "3.6.8"
  }
 },
 "nbformat": 4,
 "nbformat_minor": 2
}
